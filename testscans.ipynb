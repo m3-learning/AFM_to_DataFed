{
 "cells": [
  {
   "cell_type": "code",
   "execution_count": 13,
   "metadata": {},
   "outputs": [],
   "source": [
    "from Asylum_Research_AFM import Controls"
   ]
  },
  {
   "cell_type": "code",
   "execution_count": 14,
   "metadata": {},
   "outputs": [
    {
     "ename": "TypeError",
     "evalue": "unsupported operand type(s) for /: 'NoneType' and 'str'",
     "output_type": "error",
     "traceback": [
      "\u001b[1;31m---------------------------------------------------------------------------\u001b[0m",
      "\u001b[1;31mTypeError\u001b[0m                                 Traceback (most recent call last)",
      "Cell \u001b[1;32mIn[14], line 1\u001b[0m\n\u001b[1;32m----> 1\u001b[0m gridscan \u001b[39m=\u001b[39m Controls\u001b[39m.\u001b[39;49mscans\u001b[39m.\u001b[39;49mGridScan(num_x_grid_points \u001b[39m=\u001b[39;49m \u001b[39m60\u001b[39;49m, num_y_grid_points \u001b[39m=\u001b[39;49m \u001b[39m60\u001b[39;49m)\n",
      "File \u001b[1;32m~\\Documents\\code\\Asylum_Research_AFM\\Asylum_Research_AFM\\src\\Asylum_Research_AFM\\Controls\\scans.py:17\u001b[0m, in \u001b[0;36mGridScan.__init__\u001b[1;34m(self, num_x_grid_points, num_y_grid_points, igor_path, basepath, filename, verbose)\u001b[0m\n\u001b[0;32m     15\u001b[0m \u001b[39mself\u001b[39m\u001b[39m.\u001b[39mnum_x_grid_points \u001b[39m=\u001b[39m num_x_grid_points\n\u001b[0;32m     16\u001b[0m \u001b[39mself\u001b[39m\u001b[39m.\u001b[39mnum_y_grid_points \u001b[39m=\u001b[39m num_y_grid_points\n\u001b[1;32m---> 17\u001b[0m \u001b[39mself\u001b[39m\u001b[39m.\u001b[39mmain_panel \u001b[39m=\u001b[39m MainPanel(script\u001b[39m=\u001b[39;49m\u001b[39mTrue\u001b[39;49;00m, igor_path\u001b[39m=\u001b[39;49migor_path, basepath\u001b[39m=\u001b[39;49mbasepath, filename\u001b[39m=\u001b[39;49mfilename, verbose\u001b[39m=\u001b[39;49mverbose)\n\u001b[0;32m     18\u001b[0m \u001b[39mself\u001b[39m\u001b[39m.\u001b[39m_raw_grid \u001b[39m=\u001b[39m ()\n\u001b[0;32m     19\u001b[0m \u001b[39mself\u001b[39m\u001b[39m.\u001b[39mnumbered_grid: \u001b[39mdict\u001b[39m[\u001b[39mint\u001b[39m, \u001b[39mtuple\u001b[39m] \u001b[39m=\u001b[39m {}\n",
      "File \u001b[1;32m~\\Documents\\code\\Asylum_Research_AFM\\Asylum_Research_AFM\\src\\Asylum_Research_AFM\\Controls\\master_panel.py:54\u001b[0m, in \u001b[0;36mMainPanel.__init__\u001b[1;34m(self, script, *args, **kwargs)\u001b[0m\n\u001b[0;32m     53\u001b[0m \u001b[39mdef\u001b[39;00m \u001b[39m__init__\u001b[39m(\u001b[39mself\u001b[39m, script:\u001b[39mbool\u001b[39m\u001b[39m=\u001b[39m\u001b[39mTrue\u001b[39;00m, \u001b[39m*\u001b[39margs, \u001b[39m*\u001b[39m\u001b[39m*\u001b[39mkwargs):\n\u001b[1;32m---> 54\u001b[0m     \u001b[39msuper\u001b[39;49m()\u001b[39m.\u001b[39;49m\u001b[39m__init__\u001b[39;49m( \u001b[39m*\u001b[39;49margs, \u001b[39m*\u001b[39;49m\u001b[39m*\u001b[39;49mkwargs)\n\u001b[0;32m     55\u001b[0m     \u001b[39mself\u001b[39m\u001b[39m.\u001b[39mcommand_list \u001b[39m=\u001b[39m []\n\u001b[0;32m     56\u001b[0m     \u001b[39mself\u001b[39m\u001b[39m.\u001b[39mscript \u001b[39m=\u001b[39m script\n",
      "File \u001b[1;32m<string>:7\u001b[0m, in \u001b[0;36m__init__\u001b[1;34m(self, igor_path, basepath, filename, verbose)\u001b[0m\n",
      "File \u001b[1;32m~\\Documents\\code\\Asylum_Research_AFM\\Asylum_Research_AFM\\src\\Asylum_Research_AFM\\core\\Interface.py:33\u001b[0m, in \u001b[0;36mAFM.__post_init__\u001b[1;34m(self)\u001b[0m\n\u001b[0;32m     29\u001b[0m \u001b[39mdef\u001b[39;00m \u001b[39m__post_init__\u001b[39m(\u001b[39mself\u001b[39m):\n\u001b[0;32m     30\u001b[0m \u001b[39m    \u001b[39m\u001b[39m\"\"\"\u001b[39;00m\n\u001b[0;32m     31\u001b[0m \u001b[39m    Initialize paths and create BAT file.\u001b[39;00m\n\u001b[0;32m     32\u001b[0m \u001b[39m    \"\"\"\u001b[39;00m\n\u001b[1;32m---> 33\u001b[0m     \u001b[39mself\u001b[39m\u001b[39m.\u001b[39marcmd \u001b[39m=\u001b[39m \u001b[39mself\u001b[39;49m\u001b[39m.\u001b[39;49mbasepath \u001b[39m/\u001b[39;49m \u001b[39mf\u001b[39;49m\u001b[39m'\u001b[39;49m\u001b[39m{\u001b[39;49;00m\u001b[39mself\u001b[39;49m\u001b[39m.\u001b[39;49mfilename\u001b[39m}\u001b[39;49;00m\u001b[39m.arcmd\u001b[39;49m\u001b[39m'\u001b[39;49m\n\u001b[0;32m     34\u001b[0m     \u001b[39mself\u001b[39m\u001b[39m.\u001b[39mbat \u001b[39m=\u001b[39m \u001b[39mself\u001b[39m\u001b[39m.\u001b[39mbasepath \u001b[39m/\u001b[39m \u001b[39mf\u001b[39m\u001b[39m'\u001b[39m\u001b[39m{\u001b[39;00m\u001b[39mself\u001b[39m\u001b[39m.\u001b[39mfilename\u001b[39m}\u001b[39;00m\u001b[39m.bat\u001b[39m\u001b[39m'\u001b[39m\n\u001b[0;32m     35\u001b[0m     \u001b[39mself\u001b[39m\u001b[39m.\u001b[39mwrite_bat()\n",
      "\u001b[1;31mTypeError\u001b[0m: unsupported operand type(s) for /: 'NoneType' and 'str'"
     ]
    }
   ],
   "source": [
    "gridscan = Controls.scans.GridScan(num_x_grid_points=60, num_y_grid_points=60)"
   ]
  },
  {
   "cell_type": "code",
   "execution_count": 12,
   "metadata": {},
   "outputs": [
    {
     "ename": "AttributeError",
     "evalue": "type object 'AFM' has no attribute 'arcmd'",
     "output_type": "error",
     "traceback": [
      "\u001b[1;31m---------------------------------------------------------------------------\u001b[0m",
      "\u001b[1;31mAttributeError\u001b[0m                            Traceback (most recent call last)",
      "Cell \u001b[1;32mIn[12], line 1\u001b[0m\n\u001b[1;32m----> 1\u001b[0m afm\u001b[39m.\u001b[39;49mwrite_bat(afm)\n",
      "File \u001b[1;32m~\\Documents\\code\\Asylum_Research_AFM\\Asylum_Research_AFM\\src\\Asylum_Research_AFM\\core\\Interface.py:56\u001b[0m, in \u001b[0;36mAFM.write_bat\u001b[1;34m(self)\u001b[0m\n\u001b[0;32m     54\u001b[0m \u001b[39mdef\u001b[39;00m \u001b[39mwrite_bat\u001b[39m(\u001b[39mself\u001b[39m):\n\u001b[0;32m     55\u001b[0m     \u001b[39m# arcmd = self.arcmd.replace(\"\\\\\\\\\",\"\\\\\")\u001b[39;00m\n\u001b[1;32m---> 56\u001b[0m     content \u001b[39m=\u001b[39m \u001b[39mf\u001b[39m\u001b[39m'\u001b[39m\u001b[39m@echo off\u001b[39m\u001b[39m\\n\u001b[39;00m\u001b[39m\\\"\u001b[39;00m\u001b[39m{\u001b[39;00m\u001b[39mself\u001b[39m\u001b[39m.\u001b[39migor_path\u001b[39m}\u001b[39;00m\u001b[39m\\\"\u001b[39;00m\u001b[39m \u001b[39m\u001b[39m\\\"\u001b[39;00m\u001b[39m{\u001b[39;00m\u001b[39mself\u001b[39;49m\u001b[39m.\u001b[39;49marcmd\u001b[39m}\u001b[39;00m\u001b[39m\\\"\u001b[39;00m\u001b[39m'\u001b[39m\n\u001b[0;32m     57\u001b[0m     \u001b[39mself\u001b[39m\u001b[39m.\u001b[39mwrite_file(\u001b[39mself\u001b[39m\u001b[39m.\u001b[39mbat, content)\n",
      "\u001b[1;31mAttributeError\u001b[0m: type object 'AFM' has no attribute 'arcmd'"
     ]
    }
   ],
   "source": []
  }
 ],
 "metadata": {
  "kernelspec": {
   "display_name": "afm",
   "language": "python",
   "name": "python3"
  },
  "language_info": {
   "codemirror_mode": {
    "name": "ipython",
    "version": 3
   },
   "file_extension": ".py",
   "mimetype": "text/x-python",
   "name": "python",
   "nbconvert_exporter": "python",
   "pygments_lexer": "ipython3",
   "version": "3.11.4"
  },
  "orig_nbformat": 4
 },
 "nbformat": 4,
 "nbformat_minor": 2
}
