{
 "cells": [
  {
   "cell_type": "code",
   "execution_count": 1,
   "metadata": {},
   "outputs": [],
   "source": [
    "import os\n",
    "\n",
    "from datafed.CommandLib import API\n",
    "from igorfilesend import DataFed_Log_In\n",
    "\n",
    "df_api = API()"
   ]
  },
  {
   "cell_type": "code",
   "execution_count": 10,
   "metadata": {},
   "outputs": [
    {
     "name": "stdout",
     "output_type": "stream",
     "text": [
      "Successfully logged in to Data as u/ysp28\n"
     ]
    }
   ],
   "source": [
    "login_result = DataFed_Log_In()\n",
    "print(login_result)"
   ]
  },
  {
   "cell_type": "code",
   "execution_count": 11,
   "metadata": {},
   "outputs": [],
   "source": [
    "def delete_datafed_key_files(directory):\n",
    "    priv_key_file = os.path.join(directory, \"datafed-user-key.priv\")\n",
    "    pub_key_file = os.path.join(directory, \"datafed-user-key.pub\")\n",
    "\n",
    "    if os.path.exists(priv_key_file):\n",
    "        os.remove(priv_key_file)\n",
    "        print(\"Deleted datafed-user-key.priv\")\n",
    "\n",
    "    if os.path.exists(pub_key_file):\n",
    "        os.remove(pub_key_file)\n",
    "        print(\"Deleted datafed-user-key.pub\")"
   ]
  },
  {
   "cell_type": "code",
   "execution_count": 12,
   "metadata": {},
   "outputs": [
    {
     "name": "stdout",
     "output_type": "stream",
     "text": [
      "Deleted datafed-user-key.priv\n",
      "Deleted datafed-user-key.pub\n"
     ]
    }
   ],
   "source": [
    "directory_path = r\"C:\\Users\\Asylum User\\.datafed\"\n",
    "delete_datafed_key_files(directory_path)"
   ]
  }
 ],
 "metadata": {
  "kernelspec": {
   "display_name": "base",
   "language": "python",
   "name": "python3"
  },
  "language_info": {
   "codemirror_mode": {
    "name": "ipython",
    "version": 3
   },
   "file_extension": ".py",
   "mimetype": "text/x-python",
   "name": "python",
   "nbconvert_exporter": "python",
   "pygments_lexer": "ipython3",
   "version": "3.10.9"
  },
  "orig_nbformat": 4
 },
 "nbformat": 4,
 "nbformat_minor": 2
}
